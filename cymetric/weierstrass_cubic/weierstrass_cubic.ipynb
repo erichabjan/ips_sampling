{
 "cells": [
  {
   "cell_type": "code",
   "execution_count": null,
   "metadata": {},
   "outputs": [],
   "source": [
    "import numpy as np\n",
    "import matplotlib.pyplot as plt\n",
    "import mpmath as mp\n",
    "from pathlib import Path\n",
    "\n",
    "### Get the repository path\n",
    "import os\n",
    "rep_path = os.getcwd().replace('/cymetric/weierstrass_cubic', '')\n",
    "\n",
    "import sys\n",
    "sys.path.append(rep_path)\n",
    "import python_functions as pf"
   ]
  },
  {
   "cell_type": "markdown",
   "metadata": {},
   "source": [
    "### Import `Cymetric` sampling from the Weierstrass cubic in $\\mathbb{P}^2$"
   ]
  },
  {
   "cell_type": "code",
   "execution_count": null,
   "metadata": {},
   "outputs": [],
   "source": [
    "fname = rep_path + \"/cymetric/weierstrass_cubic/weierstrass_sampling.npy\"\n",
    "\n",
    "Z = np.load(fname)\n",
    "\n",
    "### Weierstrass coeficients from the data above \n",
    "\n",
    "a = 1.0\n",
    "b = -4.0\n",
    "c = 3.151212 * 60\n",
    "\n",
    "weierstrss_coeff = np.array([a, b, c])"
   ]
  },
  {
   "cell_type": "markdown",
   "metadata": {},
   "source": [
    "### Make a plot showing the real components of $Z_2 / Z_0$ and $Z_1 / Z_0$"
   ]
  },
  {
   "cell_type": "code",
   "execution_count": null,
   "metadata": {},
   "outputs": [],
   "source": [
    "# Keep the Z0!=0 patch and go to affine coordinates\n",
    "mask = np.abs(Z[:,0]) > 1e-14\n",
    "Z = Z[mask]\n",
    "x = Z[:,1] / Z[:,0]\n",
    "y = Z[:,2] / Z[:,0]\n",
    "\n",
    "# Real 2D projection (paper-style square)\n",
    "X = np.real(x)\n",
    "Y = np.real(y)\n",
    "\n",
    "# (Optional) clip extreme outliers for a tighter square view\n",
    "q = 0.995\n",
    "lo_x, hi_x = np.quantile(X, 1-q), np.quantile(X, q)\n",
    "lo_y, hi_y = np.quantile(Y, 1-q), np.quantile(Y, q)\n",
    "\n",
    "#plt.figure(figsize=(4,14))\n",
    "plt.scatter(np.clip(X, lo_x, hi_x), np.clip(Y, lo_y, hi_y), c='k', s=1.0, alpha=0.8)\n",
    "#plt.gca().set_aspect('equal', 'box')\n",
    "plt.xlabel(r'Re$(Z_1/Z_0)$', fontsize = 15); plt.ylabel(r'Re$(Z_2/Z_0)$', fontsize = 15)\n",
    "plt.xlim(lo_x, hi_x); plt.ylim(lo_y, hi_y)\n",
    "#plt.title('Weierstrass cubic: affine (real) projection')\n",
    "plt.tight_layout()\n",
    "plt.show()"
   ]
  },
  {
   "cell_type": "markdown",
   "metadata": {},
   "source": [
    "### We will homogenize the data by setting $x = Z_1 / Z_0$ and $y = Z_2 / Z_0$. This is what is called an affine transformation of our coordinates. From the the Weierstrass cubic we have that: \n",
    "\n",
    "$$\n",
    "0 = a Z_2^2 Z_0 + b Z_1^3 + c Z_1 Z_0^2\n",
    "$$\n",
    "\n",
    "$$\n",
    "\\rightarrow 0 = a (Z_0 y)^2 Z_0 + b (Z_0 x)^3 + c (Z_0 x) Z_0^2\n",
    "$$\n",
    "\n",
    "$$\n",
    "\\rightarrow 0 = a y^2 + b x^3 + c x\n",
    "$$\n",
    "\n",
    "$$\n",
    "\\rightarrow y^2 = - (b / a) x^3 - (c / a) x\n",
    "$$"
   ]
  },
  {
   "cell_type": "markdown",
   "metadata": {},
   "source": [
    "### We set the homogenized polynomial such that: \n",
    "\n",
    "$$\n",
    "\\rightarrow y^2 = - (b / a) x^3 - (c / a) x = - (b / a) (x - e_1) (x - e_2) (x - e_3)\n",
    "$$\n",
    "\n",
    "With:\n",
    "\n",
    "$$\n",
    "e_1 = \\frac{1}{2} \\sqrt{c}, e_2 = 0, e_3 = - \\frac{1}{2} \\sqrt{c}\n",
    "$$\n",
    "\n",
    "And we will have the half periods defined as:\n",
    "\n",
    "$$\n",
    "2 \\omega_1 = \\cfrac{2 K}{c^{1/4}} \\in \\mathbb{R}\\text{   and    }2 \\omega_2 = i \\cfrac{2 K^\\prime}{c^{1/4}} = i \\cfrac{2 K}{c^{1/4}}\n",
    "$$\n",
    "\n",
    "where $\\omega_2 / \\omega_1 = i$, which gives us a square torus. "
   ]
  },
  {
   "cell_type": "markdown",
   "metadata": {},
   "source": [
    "### Use Jacobi Elliptic functions to transform (x, y) $\\rightarrow$ U (Jacobi elliptic parameter), then obtain the Weierstrass/Abel-Jacobi uniformization coordinate"
   ]
  },
  {
   "cell_type": "code",
   "execution_count": null,
   "metadata": {},
   "outputs": [],
   "source": [
    "ab_x, ab_y = pf.weierstrass_uniform(Z = Z, weierstrass_coeff = weierstrss_coeff)"
   ]
  },
  {
   "cell_type": "markdown",
   "metadata": {},
   "source": [
    "### Plot the distribution of random points on the Weierstrass cubic from `cymetric` in uniformization coordinates"
   ]
  },
  {
   "cell_type": "code",
   "execution_count": null,
   "metadata": {},
   "outputs": [],
   "source": [
    "fig = plt.figure(figsize=(6, 6))\n",
    "\n",
    "plt.scatter(ab_x, ab_y, c='k', s=2, alpha=0.7)\n",
    "\n",
    "plt.gca().set_aspect('equal', 'box')\n",
    "\n",
    "#fig.savefig(rep_path + \"/cymetric/weierstrass_cubic/uniform_weierstrass_cubic.png\", dpi=300, bbox_inches=\"tight\")\n",
    "plt.tight_layout(); plt.show()"
   ]
  }
 ],
 "metadata": {
  "kernelspec": {
   "display_name": "COMP2025",
   "language": "python",
   "name": "python3"
  },
  "language_info": {
   "codemirror_mode": {
    "name": "ipython",
    "version": 3
   },
   "file_extension": ".py",
   "mimetype": "text/x-python",
   "name": "python",
   "nbconvert_exporter": "python",
   "pygments_lexer": "ipython3",
   "version": "3.13.5"
  }
 },
 "nbformat": 4,
 "nbformat_minor": 2
}
