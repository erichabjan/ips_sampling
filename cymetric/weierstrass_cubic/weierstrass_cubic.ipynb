{
 "cells": [
  {
   "cell_type": "code",
   "execution_count": null,
   "metadata": {},
   "outputs": [],
   "source": [
    "import numpy as np\n",
    "import matplotlib.pyplot as plt\n",
    "import mpmath as mp\n",
    "from pathlib import Path"
   ]
  },
  {
   "cell_type": "markdown",
   "metadata": {},
   "source": [
    "### Import `Cymetric` sampling from the Weierstrass cubic in $\\mathbb{P}^2$"
   ]
  },
  {
   "cell_type": "code",
   "execution_count": null,
   "metadata": {},
   "outputs": [],
   "source": [
    "fname = \"/home/habjan.e/CY_metric/ips_sampling/cymetric/weierstrass_cubic/weierstrass_sampling.npy\"\n",
    "\n",
    "Z = np.load(fname)\n",
    "\n",
    "### Weierstrass coeficients from the data above \n",
    "\n",
    "a = 1.0\n",
    "b = -4.0\n",
    "c = 3.151212 * 60"
   ]
  },
  {
   "cell_type": "markdown",
   "metadata": {},
   "source": [
    "### Make a plot showing the real components of $Z_2 / Z_0$ and $Z_1 / Z_0$"
   ]
  },
  {
   "cell_type": "code",
   "execution_count": null,
   "metadata": {},
   "outputs": [],
   "source": [
    "# Keep the Z0!=0 patch and go to affine coordinates\n",
    "mask = np.abs(Z[:,0]) > 1e-14\n",
    "Z = Z[mask]\n",
    "x = Z[:,1] / Z[:,0]\n",
    "y = Z[:,2] / Z[:,0]\n",
    "\n",
    "# Real 2D projection (paper-style square)\n",
    "X = np.real(x)\n",
    "Y = np.real(y)\n",
    "\n",
    "# (Optional) clip extreme outliers for a tighter square view\n",
    "q = 0.995\n",
    "lo_x, hi_x = np.quantile(X, 1-q), np.quantile(X, q)\n",
    "lo_y, hi_y = np.quantile(Y, 1-q), np.quantile(Y, q)\n",
    "\n",
    "#plt.figure(figsize=(4,14))\n",
    "plt.scatter(np.clip(X, lo_x, hi_x), np.clip(Y, lo_y, hi_y), c='k', s=1.0, alpha=0.8)\n",
    "#plt.gca().set_aspect('equal', 'box')\n",
    "plt.xlabel(r'Re$(Z_1/Z_0)$', fontsize = 15); plt.ylabel(r'Re$(Z_2/Z_0)$', fontsize = 15)\n",
    "plt.xlim(lo_x, hi_x); plt.ylim(lo_y, hi_y)\n",
    "#plt.title('Weierstrass cubic: affine (real) projection')\n",
    "plt.tight_layout()\n",
    "plt.show()"
   ]
  },
  {
   "cell_type": "markdown",
   "metadata": {},
   "source": [
    "### We will homogenize the data by setting $x = Z_1 / Z_0$ and $y = Z_2 / Z_0$. This is what is called an affine transformation of our coordinates. From the the Weierstrass cubic we have that: \n",
    "\n",
    "$$\n",
    "0 = a Z_2^2 Z_0 + b Z_1^3 + c Z_1 Z_0^2\n",
    "$$\n",
    "\n",
    "$$\n",
    "\\rightarrow 0 = a (Z_0 y)^2 Z_0 + b (Z_0 x)^3 + c (Z_0 x) Z_0^2\n",
    "$$\n",
    "\n",
    "$$\n",
    "\\rightarrow 0 = a y^2 + b x^3 + c x\n",
    "$$\n",
    "\n",
    "$$\n",
    "\\rightarrow y^2 = - (b / a) x^3 - (c / a) x\n",
    "$$"
   ]
  },
  {
   "cell_type": "markdown",
   "metadata": {},
   "source": [
    "### Dehomogenize the data that we sampled"
   ]
  },
  {
   "cell_type": "code",
   "execution_count": null,
   "metadata": {},
   "outputs": [],
   "source": [
    "mask = np.abs(Z[:,0]) > 1e-14\n",
    "x = (Z[mask,1] / Z[mask,0]).astype(np.complex128)\n",
    "y = (Z[mask,2] / Z[mask,0]).astype(np.complex128)"
   ]
  },
  {
   "cell_type": "markdown",
   "metadata": {},
   "source": [
    "### Constants for Jacobi-uniformization"
   ]
  },
  {
   "cell_type": "code",
   "execution_count": null,
   "metadata": {},
   "outputs": [],
   "source": [
    "# --- constants for g3=0 (lemniscatic) ---\n",
    "c_real = float(np.real(c))       # c > 0 in your setup\n",
    "rt = mp.sqrt(c_real)             # √c (real, positive)\n",
    "a = rt/2                         # e1=+a, e2=0, e3=-a\n",
    "alpha = c_real**0.25             # α = (e1-e3)^{1/2} = c^{1/4}\n",
    "m = mp.mpf('0.5')                # k^2 = 1/2\n",
    "K  = mp.ellipk(m)\n",
    "Kp = mp.ellipk(1-m)"
   ]
  },
  {
   "cell_type": "markdown",
   "metadata": {},
   "source": [
    "### We set the homogenized polynomial such that: \n",
    "\n",
    "$$\n",
    "\\rightarrow y^2 = - (b / a) x^3 - (c / a) x = - (b / a) (x - e_1) (x - e_2) (x - e_3)\n",
    "$$\n",
    "\n",
    "With:\n",
    "\n",
    "$$\n",
    "e_1 = \\frac{1}{2} \\sqrt{c}, e_2 = 0, e_3 = - \\frac{1}{2} \\sqrt{c}\n",
    "$$\n",
    "\n",
    "And we will have the half periods defined as:\n",
    "\n",
    "$$\n",
    "2 \\omega_1 = \\cfrac{2 K}{c^{1/4}} \\in \\mathbb{R}\\text{   and    }2 \\omega_2 = i \\cfrac{2 K^\\prime}{c^{1/4}} = i \\cfrac{2 K}{c^{1/4}}\n",
    "$$\n",
    "\n",
    "where $\\omega_2 / \\omega_1 = i$, which gives us a square torus. "
   ]
  },
  {
   "cell_type": "markdown",
   "metadata": {},
   "source": [
    "### Use Jacobi Elliptic functions to trasnform (x, y) $\\rightarrow$ U (Jacobi elliptic parameter)"
   ]
  },
  {
   "cell_type": "code",
   "execution_count": null,
   "metadata": {},
   "outputs": [],
   "source": [
    "# Jacobi helpers for the older mpmath API: ellipfun(kind, u, m)\n",
    "def jacobi_sn(u, m): return mp.ellipfun('sn', u, m)\n",
    "def jacobi_cn(u, m): return mp.ellipfun('cn', u, m)\n",
    "def jacobi_dn(u, m): return mp.ellipfun('dn', u, m)\n",
    "\n",
    "def inv_u(xi, yi, *, m=m, alpha=alpha, rt=rt, a=a):\n",
    "    \"\"\"Invert x -> u on y^2 = 4x^3 - c x (g3=0) using Jacobi sn.\"\"\"\n",
    "    # sn^2(αu) = √c / (x + √c/2)\n",
    "    s2   = rt / (xi + a)          # can be complex\n",
    "    s    = mp.sqrt(s2)            # principal branch\n",
    "    Uhat = mp.ellipf(mp.asin(s), m)  # Uhat = α u  (inverse sn)\n",
    "\n",
    "    # Predict y from Uhat to choose the correct sheet/sign\n",
    "    sn = jacobi_sn(Uhat, m)\n",
    "    cn = jacobi_cn(Uhat, m)\n",
    "    dn = jacobi_dn(Uhat, m)\n",
    "    y_pred = -(alpha**3) * (cn * dn) / (sn**3)\n",
    "\n",
    "    u = Uhat / alpha\n",
    "    if abs(y_pred - yi) > abs(-y_pred - yi):\n",
    "        u = -u\n",
    "\n",
    "    return complex(u)\n",
    "\n",
    "U = np.array([inv_u(xi, yi) for xi, yi in zip(x, y)], dtype=np.complex128)"
   ]
  },
  {
   "cell_type": "markdown",
   "metadata": {},
   "source": [
    "### Obtain the Weierstrass/Abel-Jacobi uniformization coordinate"
   ]
  },
  {
   "cell_type": "code",
   "execution_count": null,
   "metadata": {},
   "outputs": [],
   "source": [
    "w1, w2 = K/alpha, 1j*Kp/alpha   # half-periods\n",
    "\n",
    "M = np.array([[ (2*w1).real, (2*w2).real ],\n",
    "              [ (2*w1).imag, (2*w2).imag ]], dtype=float)\n",
    "\n",
    "ab = (np.linalg.inv(M) @ np.vstack([U.real, U.imag])).T"
   ]
  },
  {
   "cell_type": "markdown",
   "metadata": {},
   "source": [
    "### Plot the distribution of random points on the Weierstrass cubic from `cymetric` in uniformization coordinates"
   ]
  },
  {
   "cell_type": "code",
   "execution_count": null,
   "metadata": {},
   "outputs": [],
   "source": [
    "plt.figure(figsize=(6, 6))\n",
    "\n",
    "plt.scatter(ab[:,0], ab[:,1], c='k', s=2, alpha=0.7)\n",
    "\n",
    "plt.gca().set_aspect('equal', 'box')\n",
    "plt.tight_layout(); plt.show()"
   ]
  }
 ],
 "metadata": {
  "kernelspec": {
   "display_name": "cymetric",
   "language": "python",
   "name": "python3"
  },
  "language_info": {
   "codemirror_mode": {
    "name": "ipython",
    "version": 3
   },
   "file_extension": ".py",
   "mimetype": "text/x-python",
   "name": "python",
   "nbconvert_exporter": "python",
   "pygments_lexer": "ipython3",
   "version": "3.9.23"
  }
 },
 "nbformat": 4,
 "nbformat_minor": 2
}
