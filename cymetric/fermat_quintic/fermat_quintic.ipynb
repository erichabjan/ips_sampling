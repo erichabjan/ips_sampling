{
 "cells": [
  {
   "cell_type": "code",
   "execution_count": null,
   "metadata": {},
   "outputs": [],
   "source": [
    "import numpy as np\n",
    "import matplotlib.pyplot as plt\n",
    "import mpmath as mp"
   ]
  },
  {
   "cell_type": "markdown",
   "metadata": {},
   "source": [
    "### Import `Cymetric` sampling from the Fermat Cubic in $\\mathbb{P}^4$"
   ]
  },
  {
   "cell_type": "code",
   "execution_count": null,
   "metadata": {},
   "outputs": [],
   "source": [
    "fname = \"/home/habjan.e/CY_metric/ips_sampling/cymetric/fermat_quintic/fermat_quintic_sampling.npy\"\n",
    "\n",
    "Z = np.load(fname)"
   ]
  },
  {
   "cell_type": "markdown",
   "metadata": {},
   "source": [
    "### Define a function that will make a plot for any Z"
   ]
  },
  {
   "cell_type": "code",
   "execution_count": null,
   "metadata": {},
   "outputs": [],
   "source": [
    "def sampling_plot(Z_in, q=0.995, eps=1e-14, s=1.0, alpha=0.8, color='k', equal_aspect=False):\n",
    "    \"\"\"\n",
    "    Plot Re(Z_1/Z_0) vs Re(Z_k/Z_0) for k=2..M-1 as M-2 panels in a row.\n",
    "\n",
    "    Parameters\n",
    "    ----------\n",
    "    Z_in : array-like, shape (N, M)\n",
    "        Complex (or real) array with columns Z_0, Z_1, ..., Z_{M-1}.\n",
    "    q : float, optional\n",
    "        Central quantile to retain (e.g., 0.995 keeps the middle 99.5%).\n",
    "        Used to clip both X (per panel) and Y (shared across panels).\n",
    "    eps : float, optional\n",
    "        Threshold to mask |Z_0| to avoid division by (near) zero.\n",
    "    s, alpha, color : matplotlib scatter kwargs\n",
    "    equal_aspect : bool\n",
    "        If True, set each panel to equal aspect ('box').\n",
    "\n",
    "    Returns\n",
    "    -------\n",
    "    fig, axes : matplotlib Figure and Axes\n",
    "    \"\"\"\n",
    "    Z = np.asarray(Z_in)\n",
    "    if Z.ndim != 2:\n",
    "        raise ValueError(\"Z_in must be a 2D array of shape (N, M).\")\n",
    "    N, M = Z.shape\n",
    "    if M < 3:\n",
    "        raise ValueError(\"Z_in must have at least 3 columns (Z_0, Z_1, Z_2).\")\n",
    "\n",
    "    # Mask to avoid dividing by tiny Z_0\n",
    "    mask = np.abs(Z[:, 0]) > eps\n",
    "    if not np.any(mask):\n",
    "        raise ValueError(\"All rows have |Z_0| <= eps; nothing to plot.\")\n",
    "    Z = Z[mask]\n",
    "\n",
    "    denom = Z[:, 0]\n",
    "    Y = np.real(Z[:, 1] / denom)\n",
    "\n",
    "    # Shared Y clipping across all panels\n",
    "    lo_y, hi_y = np.quantile(Y, 1 - q), np.quantile(Y, q)\n",
    "\n",
    "    ncols = M - 2\n",
    "    fig, axes = plt.subplots(1, ncols, figsize=(4 * ncols, 4), sharey=True)\n",
    "    if ncols == 1:\n",
    "        axes = [axes]\n",
    "\n",
    "    for i, k in enumerate(range(2, M)):\n",
    "        Xk = np.real(Z[:, k] / denom)\n",
    "        # Per-panel X clipping\n",
    "        lo_x, hi_x = np.quantile(Xk, 1 - q), np.quantile(Xk, q)\n",
    "\n",
    "        axes[i].scatter(np.clip(Xk, lo_x, hi_x), np.clip(Y, lo_y, hi_y),\n",
    "                        c=color, s=s, alpha=alpha)\n",
    "        if equal_aspect:\n",
    "            axes[i].set_aspect('equal', 'box')\n",
    "\n",
    "        axes[i].set_xlabel(rf'Re$(Z_{k}/Z_0)$', fontsize=12)\n",
    "        #axes[i].set_xlim(lo_x, hi_x)\n",
    "        #axes[i].set_ylim(lo_y, hi_y)\n",
    "        if i == 0:\n",
    "            axes[i].set_ylabel(r'Re$(Z_1/Z_0)$', fontsize=12)\n",
    "\n",
    "    plt.tight_layout()\n",
    "    return fig, axes"
   ]
  },
  {
   "cell_type": "markdown",
   "metadata": {},
   "source": [
    "### Sampled points from the Fermat Quintic"
   ]
  },
  {
   "cell_type": "code",
   "execution_count": null,
   "metadata": {},
   "outputs": [],
   "source": [
    "fig, axes = sampling_plot(Z, q=0.995, equal_aspect=False)\n",
    "plt.show()"
   ]
  },
  {
   "cell_type": "markdown",
   "metadata": {},
   "source": [
    "### Import Dwork quintic data"
   ]
  },
  {
   "cell_type": "code",
   "execution_count": null,
   "metadata": {},
   "outputs": [],
   "source": [
    "fname = \"/home/habjan.e/CY_metric/ips_sampling/cymetric/fermat_quintic/dwork_quintic_sampling.npy\"\n",
    "\n",
    "Z_dwork = np.load(fname)"
   ]
  },
  {
   "cell_type": "markdown",
   "metadata": {},
   "source": [
    "### Plot Dwork quintic"
   ]
  },
  {
   "cell_type": "code",
   "execution_count": null,
   "metadata": {},
   "outputs": [],
   "source": [
    "fig, axes = sampling_plot(Z_dwork, q=0.995, equal_aspect=False)\n",
    "plt.show()"
   ]
  },
  {
   "cell_type": "markdown",
   "metadata": {},
   "source": [
    "### import bicubic samples"
   ]
  },
  {
   "cell_type": "code",
   "execution_count": null,
   "metadata": {},
   "outputs": [],
   "source": [
    "fname = \"/home/habjan.e/CY_metric/data/bicubic/bicubic_sampling.npy\"\n",
    "\n",
    "Z_bicubic = np.load(fname)"
   ]
  },
  {
   "cell_type": "markdown",
   "metadata": {},
   "source": [
    "### Plot bicubic"
   ]
  },
  {
   "cell_type": "code",
   "execution_count": null,
   "metadata": {},
   "outputs": [],
   "source": [
    "fig, axes = sampling_plot(Z_bicubic, q=0.995, equal_aspect=False)\n",
    "plt.show()"
   ]
  }
 ],
 "metadata": {
  "kernelspec": {
   "display_name": "Python 3",
   "language": "python",
   "name": "python3"
  },
  "language_info": {
   "codemirror_mode": {
    "name": "ipython",
    "version": 3
   },
   "file_extension": ".py",
   "mimetype": "text/x-python",
   "name": "python",
   "nbconvert_exporter": "python",
   "pygments_lexer": "ipython3",
   "version": "3.9.23"
  }
 },
 "nbformat": 4,
 "nbformat_minor": 2
}
