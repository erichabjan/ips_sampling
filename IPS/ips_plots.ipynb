{
 "cells": [
  {
   "cell_type": "code",
   "execution_count": null,
   "id": "84aab387",
   "metadata": {},
   "outputs": [],
   "source": [
    "import numpy as np\n",
    "import pandas as pd\n",
    "\n",
    "import matplotlib.pyplot as plt\n",
    "import mpmath as mp\n",
    "import math\n",
    "\n",
    "### Get the repository path\n",
    "import os\n",
    "rep_path = os.getcwd().replace('/IPS', '')\n",
    "\n",
    "import sys\n",
    "sys.path.append(rep_path)\n",
    "import python_functions as pf"
   ]
  },
  {
   "cell_type": "markdown",
   "id": "5f9bd703",
   "metadata": {},
   "source": [
    "### Import outputs from IPS code"
   ]
  },
  {
   "cell_type": "code",
   "execution_count": null,
   "id": "e9b4a4e5",
   "metadata": {},
   "outputs": [],
   "source": [
    "# Load the CSV files\n",
    "points_real = pd.read_csv(\"/Users/erich/Downloads/Northeastern/IPS_home/Data/ips_output/points_real.csv\", header=None).values\n",
    "points_imag = pd.read_csv(\"/Users/erich/Downloads/Northeastern/IPS_home/Data/ips_output/points_imag.csv\", header=None).values\n",
    "\n",
    "# Load the rest\n",
    "weights = pd.read_csv(\"/Users/erich/Downloads/Northeastern/IPS_home/Data/ips_output/weights.csv\", header=None).values.flatten()\n",
    "omegas = pd.read_csv(\"/Users/erich/Downloads/Northeastern/IPS_home/Data/ips_output/omegas.csv\", header=None).values.flatten()\n",
    "kappas = pd.read_csv(\"/Users/erich/Downloads/Northeastern/IPS_home/Data/ips_output/kappas.csv\", header=None).values.flatten()"
   ]
  },
  {
   "cell_type": "markdown",
   "id": "cc49b015",
   "metadata": {},
   "source": [
    "### Make an array that is similar to the samepled points from `cymetric`"
   ]
  },
  {
   "cell_type": "code",
   "execution_count": null,
   "id": "40dc3d46",
   "metadata": {},
   "outputs": [],
   "source": [
    "Z = points_real + 1j * points_imag\n",
    "\n",
    "Z.shape"
   ]
  },
  {
   "cell_type": "markdown",
   "id": "d5436f3d",
   "metadata": {},
   "source": [
    "### Weierstrass coeficients"
   ]
  },
  {
   "cell_type": "code",
   "execution_count": null,
   "id": "e6ca1631",
   "metadata": {},
   "outputs": [],
   "source": [
    "a = 1.0\n",
    "b = -4.0\n",
    "c = 3.151212 * 60\n",
    "\n",
    "w_coeffs = np.array([a, b, c])"
   ]
  },
  {
   "cell_type": "markdown",
   "id": "12f12bba",
   "metadata": {},
   "source": [
    "### Plot 2D projection of the Weierstrass cubic"
   ]
  },
  {
   "cell_type": "code",
   "execution_count": null,
   "id": "54848568",
   "metadata": {},
   "outputs": [],
   "source": [
    "# Keep the Z0!=0 patch and go to affine coordinates\n",
    "mask = np.abs(Z[:,0]) > 1e-14\n",
    "Z = Z[mask]\n",
    "x = Z[:,1] / Z[:,0]\n",
    "y = Z[:,2] / Z[:,0]\n",
    "\n",
    "# Real 2D projection (paper-style square)\n",
    "X = np.real(x)\n",
    "Y = np.real(y)\n",
    "\n",
    "# (Optional) clip extreme outliers for a tighter square view\n",
    "q = 0.995\n",
    "lo_x, hi_x = np.quantile(X, 1-q), np.quantile(X, q)\n",
    "lo_y, hi_y = np.quantile(Y, 1-q), np.quantile(Y, q)\n",
    "\n",
    "#plt.figure(figsize=(4,14))\n",
    "plt.scatter(np.clip(X, lo_x, hi_x), np.clip(Y, lo_y, hi_y), c='k', s=1.0, alpha=0.8)\n",
    "#plt.gca().set_aspect('equal', 'box')\n",
    "plt.xlabel(r'Re$(Z_1/Z_0)$', fontsize = 15); plt.ylabel(r'Re$(Z_2/Z_0)$', fontsize = 15)\n",
    "plt.xlim(lo_x, hi_x); plt.ylim(lo_y, hi_y)\n",
    "#plt.title('Weierstrass cubic: affine (real) projection')\n",
    "plt.tight_layout()\n",
    "plt.show()"
   ]
  },
  {
   "cell_type": "markdown",
   "id": "8e9f1b24",
   "metadata": {},
   "source": [
    "### Obtain uniformized coordiantes"
   ]
  },
  {
   "cell_type": "code",
   "execution_count": null,
   "id": "95b43cab",
   "metadata": {},
   "outputs": [],
   "source": [
    "ab_x, ab_y = pf.weierstrass_uniform(Z = Z, weierstrass_coeff = w_coeffs)"
   ]
  },
  {
   "cell_type": "code",
   "execution_count": null,
   "id": "25521831",
   "metadata": {},
   "outputs": [],
   "source": [
    "ab_x.shape"
   ]
  },
  {
   "cell_type": "markdown",
   "id": "84436df4",
   "metadata": {},
   "source": [
    "### Plot the uniformized Weierstrass coordinates"
   ]
  },
  {
   "cell_type": "code",
   "execution_count": null,
   "id": "3bd3dcf3",
   "metadata": {},
   "outputs": [],
   "source": [
    "fig = plt.figure(figsize=(6, 6))\n",
    "\n",
    "plt.scatter(ab_x, ab_y, c='k', s=2, alpha=0.7)\n",
    "\n",
    "plt.gca().set_aspect('equal', 'box')\n",
    "\n",
    "fig.savefig(rep_path + \"/IPS/uniform_weierstrass_cubic_ips.png\", dpi=300, bbox_inches=\"tight\")\n",
    "plt.tight_layout(); plt.show()"
   ]
  },
  {
   "cell_type": "markdown",
   "id": "fec16556",
   "metadata": {},
   "source": [
    "### Colorize the different regions"
   ]
  },
  {
   "cell_type": "code",
   "execution_count": null,
   "id": "efa734f3",
   "metadata": {},
   "outputs": [],
   "source": [
    "num_reg = 19\n",
    "\n",
    "sampled_pts = ab_x.shape[0]\n",
    "pts_per_reg = math.ceil(ab_x.shape[0] / num_reg)\n",
    "\n",
    "fig = plt.figure(figsize=(6, 6))\n",
    "\n",
    "for i in range(0, sampled_pts, pts_per_reg):\n",
    "\n",
    "    plt.scatter(ab_x[i:i+pts_per_reg], ab_y[i:i+pts_per_reg], s=2, alpha=1)\n",
    "\n",
    "    plt.gca().set_aspect('equal', 'box')\n",
    "\n",
    "fig.savefig(rep_path + \"/IPS/uniform_weierstrass_cubic_ips.png\", dpi=300, bbox_inches=\"tight\")\n",
    "plt.tight_layout(); plt.show()"
   ]
  }
 ],
 "metadata": {
  "kernelspec": {
   "display_name": "COMP2025",
   "language": "python",
   "name": "python3"
  },
  "language_info": {
   "codemirror_mode": {
    "name": "ipython",
    "version": 3
   },
   "file_extension": ".py",
   "mimetype": "text/x-python",
   "name": "python",
   "nbconvert_exporter": "python",
   "pygments_lexer": "ipython3",
   "version": "3.13.5"
  }
 },
 "nbformat": 4,
 "nbformat_minor": 5
}
